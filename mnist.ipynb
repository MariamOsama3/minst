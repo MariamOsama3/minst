{
  "metadata": {
    "kernelspec": {
      "name": "python3",
      "display_name": "Python 3"
    },
    "language_info": {
      "name": "python",
      "version": "3.11.11",
      "mimetype": "text/x-python",
      "codemirror_mode": {
        "name": "ipython",
        "version": 3
      },
      "pygments_lexer": "ipython3",
      "nbconvert_exporter": "python",
      "file_extension": ".py"
    },
    "colab": {
      "provenance": [],
      "gpuType": "T4"
    },
    "accelerator": "GPU",
    "kaggle": {
      "accelerator": "nvidiaTeslaT4",
      "dataSources": [],
      "dockerImageVersionId": 31011,
      "isInternetEnabled": true,
      "language": "python",
      "sourceType": "notebook",
      "isGpuEnabled": true
    }
  },
  "nbformat_minor": 0,
  "nbformat": 4,
  "cells": [
    {
      "cell_type": "markdown",
      "source": [
        "$$ ITI \\space AI-Pro: \\space Intake \\space 45 $$\n",
        "$$ Deep \\space Learning $$\n",
        "$$ Lab \\space no. \\space 5 $$"
      ],
      "metadata": {
        "id": "2KqCPtEtRAhF"
      }
    },
    {
      "cell_type": "markdown",
      "source": [
        "# `01` Assignment 01\n",
        "\n",
        "- Design your LSTM learning model to classify hand-written digits (MNIST dataset).\n",
        "- To handle images as a sequence, the LSTM input can be seen as a 28 sequences\n",
        "of 28 elements each (taking each row of pixels as a single time step input).\n",
        "- Then, you can use dense layer(s) on top (connected to the\n",
        "output of the LSTM).\n",
        "- Important Notes:\n",
        "  - Image Size: $28\\times28$\n",
        "  - Use $80\\%$ of the provided training data for training and $20\\%$ for validation (Keep the test data for testing after training).\n",
        "  - Use $32$ units in the LSTM layer and $15\\%$ recurrent dropout.\n",
        "  - Use Categorical Cross Entropy for the loss calculation, `Adam` for optimization and `accuracy` for metrics.\n",
        "\n",
        "\n",
        "  **Additional Requirements**:\n",
        "  - Try adding a second LSTM layer before the dense layer(s).\n",
        "  - Change the number of cells to $48, 96, 256$ and report the accuracy curve."
      ],
      "metadata": {
        "id": "wKV9m7vyPSgl"
      }
    },
    {
      "cell_type": "markdown",
      "source": [
        "## `+` Import Libraries"
      ],
      "metadata": {
        "id": "wS10cfI1PSga"
      }
    },
    {
      "cell_type": "code",
      "source": [
        "from keras.datasets import mnist"
      ],
      "metadata": {
        "id": "jCwQSF0hdmvb",
        "trusted": true,
        "execution": {
          "iopub.status.busy": "2025-04-18T20:58:40.615716Z",
          "iopub.execute_input": "2025-04-18T20:58:40.615955Z",
          "iopub.status.idle": "2025-04-18T20:58:52.460586Z",
          "shell.execute_reply.started": "2025-04-18T20:58:40.615931Z",
          "shell.execute_reply": "2025-04-18T20:58:52.459666Z"
        }
      },
      "outputs": [],
      "execution_count": 2
    },
    {
      "cell_type": "code",
      "source": [
        "from keras.models import Sequential\n",
        "from keras.layers import Dense, Dropout, Activation , LSTM ,ConvLSTM1D , Reshape\n",
        "import numpy as np\n",
        "import matplotlib.pyplot as plt\n",
        "from keras.utils import to_categorical\n",
        "from tensorflow.keras.callbacks import EarlyStopping"
      ],
      "metadata": {
        "id": "19570f74",
        "execution": {
          "iopub.status.busy": "2025-04-18T20:58:52.462681Z",
          "iopub.execute_input": "2025-04-18T20:58:52.463183Z",
          "iopub.status.idle": "2025-04-18T20:58:52.539315Z",
          "shell.execute_reply.started": "2025-04-18T20:58:52.463152Z",
          "shell.execute_reply": "2025-04-18T20:58:52.538794Z"
        },
        "trusted": true
      },
      "outputs": [],
      "execution_count": 3
    },
    {
      "cell_type": "code",
      "source": [
        "import tensorflow as tf"
      ],
      "metadata": {
        "id": "raafNUCoWrPY"
      },
      "execution_count": 23,
      "outputs": []
    },
    {
      "cell_type": "markdown",
      "source": [
        "# `+` Seed Value"
      ],
      "metadata": {
        "id": "hft_oDHZEOcN"
      }
    },
    {
      "cell_type": "code",
      "source": [
        "SEED = 907"
      ],
      "metadata": {
        "id": "zh7CROhTEWmT",
        "trusted": true,
        "execution": {
          "iopub.status.busy": "2025-04-18T20:58:52.540198Z",
          "iopub.execute_input": "2025-04-18T20:58:52.540486Z",
          "iopub.status.idle": "2025-04-18T20:58:52.618308Z",
          "shell.execute_reply.started": "2025-04-18T20:58:52.540460Z",
          "shell.execute_reply": "2025-04-18T20:58:52.617582Z"
        }
      },
      "outputs": [],
      "execution_count": 4
    },
    {
      "cell_type": "markdown",
      "source": [
        "## `+` Load & Preprocess MNIST Dataset"
      ],
      "metadata": {
        "id": "60mCbsyxQyBf"
      }
    },
    {
      "cell_type": "markdown",
      "source": [
        "**Reminder:** You might need rescaling, and/or other preprocessing methods."
      ],
      "metadata": {
        "id": "AuCtuvFS_JZp"
      }
    },
    {
      "cell_type": "code",
      "source": [
        "minst_image = mnist.load_data()\n",
        "(x_train, y_train), (x_test, y_test) = minst_image"
      ],
      "metadata": {
        "id": "sSHDTEQ8oNAb",
        "trusted": true,
        "execution": {
          "iopub.status.busy": "2025-04-18T21:16:15.643275Z",
          "iopub.execute_input": "2025-04-18T21:16:15.643869Z",
          "iopub.status.idle": "2025-04-18T21:16:15.916235Z",
          "shell.execute_reply.started": "2025-04-18T21:16:15.643825Z",
          "shell.execute_reply": "2025-04-18T21:16:15.915459Z"
        },
        "colab": {
          "base_uri": "https://localhost:8080/"
        },
        "outputId": "f04ee8fb-ffc0-4d93-ffcd-a3dfff095b25"
      },
      "outputs": [
        {
          "output_type": "stream",
          "name": "stdout",
          "text": [
            "Downloading data from https://storage.googleapis.com/tensorflow/tf-keras-datasets/mnist.npz\n",
            "\u001b[1m11490434/11490434\u001b[0m \u001b[32m━━━━━━━━━━━━━━━━━━━━\u001b[0m\u001b[37m\u001b[0m \u001b[1m0s\u001b[0m 0us/step\n"
          ]
        }
      ],
      "execution_count": 5
    },
    {
      "cell_type": "code",
      "source": [
        "print(x_train.shape)\n",
        "print(y_train.shape)\n",
        "print(x_test.shape)\n",
        "print(y_test.shape)"
      ],
      "metadata": {
        "colab": {
          "base_uri": "https://localhost:8080/"
        },
        "id": "j3hbdOiTJ7vr",
        "outputId": "33a58122-bfb3-458e-eca5-b46aa9c47afc",
        "trusted": true,
        "execution": {
          "iopub.status.busy": "2025-04-18T20:58:54.345747Z",
          "iopub.execute_input": "2025-04-18T20:58:54.346042Z",
          "iopub.status.idle": "2025-04-18T20:58:54.350528Z",
          "shell.execute_reply.started": "2025-04-18T20:58:54.346019Z",
          "shell.execute_reply": "2025-04-18T20:58:54.349888Z"
        }
      },
      "outputs": [
        {
          "output_type": "stream",
          "name": "stdout",
          "text": [
            "(60000, 28, 28)\n",
            "(60000,)\n",
            "(10000, 28, 28)\n",
            "(10000,)\n"
          ]
        }
      ],
      "execution_count": 6
    },
    {
      "cell_type": "code",
      "source": [
        "x_train = x_train.astype('float32')\n",
        "x_test = x_test.astype('float32')\n",
        "x_train /= 255\n",
        "x_test /= 255"
      ],
      "metadata": {
        "id": "w27KqHMxKRgy",
        "trusted": true,
        "execution": {
          "iopub.status.busy": "2025-04-18T21:16:36.957371Z",
          "iopub.execute_input": "2025-04-18T21:16:36.958068Z",
          "iopub.status.idle": "2025-04-18T21:16:37.074123Z",
          "shell.execute_reply.started": "2025-04-18T21:16:36.958038Z",
          "shell.execute_reply": "2025-04-18T21:16:37.073305Z"
        }
      },
      "outputs": [],
      "execution_count": 7
    },
    {
      "cell_type": "code",
      "source": [
        "x_train.shape"
      ],
      "metadata": {
        "colab": {
          "base_uri": "https://localhost:8080/"
        },
        "id": "lxMaRXKiL-bZ",
        "outputId": "38d74be0-fcfb-418b-a63a-f2b37360bb30",
        "trusted": true,
        "execution": {
          "iopub.status.busy": "2025-04-18T20:58:54.475650Z",
          "iopub.execute_input": "2025-04-18T20:58:54.475965Z",
          "iopub.status.idle": "2025-04-18T20:58:54.481290Z",
          "shell.execute_reply.started": "2025-04-18T20:58:54.475946Z",
          "shell.execute_reply": "2025-04-18T20:58:54.480667Z"
        }
      },
      "outputs": [
        {
          "output_type": "execute_result",
          "data": {
            "text/plain": [
              "(60000, 28, 28)"
            ]
          },
          "metadata": {},
          "execution_count": 8
        }
      ],
      "execution_count": 8
    },
    {
      "cell_type": "code",
      "source": [
        "y_train = tf.keras.utils.to_categorical(y_train, num_classes=10)\n",
        "y_test = tf.keras.utils.to_categorical(y_test, num_classes=10)"
      ],
      "metadata": {
        "id": "rDLscVclWkpA"
      },
      "execution_count": 24,
      "outputs": []
    },
    {
      "cell_type": "markdown",
      "source": [
        "## `+` Set Global Parameters"
      ],
      "metadata": {
        "id": "phguArA6PSgk"
      }
    },
    {
      "cell_type": "code",
      "source": [
        "BATCH_SIZE  = 16\n",
        "EPOCHS      = 30"
      ],
      "metadata": {
        "id": "gptfORN3Q0Xn",
        "execution": {
          "iopub.status.busy": "2025-04-18T20:58:54.482014Z",
          "iopub.execute_input": "2025-04-18T20:58:54.482278Z",
          "iopub.status.idle": "2025-04-18T20:58:54.491579Z",
          "shell.execute_reply.started": "2025-04-18T20:58:54.482260Z",
          "shell.execute_reply": "2025-04-18T20:58:54.490793Z"
        },
        "trusted": true
      },
      "outputs": [],
      "execution_count": 9
    },
    {
      "cell_type": "markdown",
      "source": [
        "## `i` Model Design"
      ],
      "metadata": {
        "id": "hJYQFN8RPSgm"
      }
    },
    {
      "cell_type": "code",
      "source": [
        "model = Sequential()\n",
        "model.add(LSTM(32, input_shape=(28, 28), return_sequences=True)) # Changed return_sequences to True\n",
        "model.add(Dropout(0.15))\n",
        "model.add(LSTM(64, return_sequences=False)) # Now this layer receives 3D input\n",
        "model.add(Dense(32, activation='relu'))\n",
        "model.add(Dense(64, activation='relu'))\n",
        "model.add(Dense(128, activation='relu'))\n",
        "model.add(Dense(10, activation='softmax'))\n",
        "model.summary()"
      ],
      "metadata": {
        "trusted": true,
        "execution": {
          "iopub.status.busy": "2025-04-18T22:17:15.446558Z",
          "iopub.execute_input": "2025-04-18T22:17:15.447065Z",
          "iopub.status.idle": "2025-04-18T22:17:15.537420Z",
          "shell.execute_reply.started": "2025-04-18T22:17:15.447043Z",
          "shell.execute_reply": "2025-04-18T22:17:15.536717Z"
        },
        "colab": {
          "base_uri": "https://localhost:8080/",
          "height": 408
        },
        "id": "ComCwLP0T4zV",
        "outputId": "b395a611-0213-413e-9213-c62301ca4053"
      },
      "outputs": [
        {
          "output_type": "stream",
          "name": "stderr",
          "text": [
            "/usr/local/lib/python3.11/dist-packages/keras/src/layers/rnn/rnn.py:200: UserWarning: Do not pass an `input_shape`/`input_dim` argument to a layer. When using Sequential models, prefer using an `Input(shape)` object as the first layer in the model instead.\n",
            "  super().__init__(**kwargs)\n"
          ]
        },
        {
          "output_type": "display_data",
          "data": {
            "text/plain": [
              "\u001b[1mModel: \"sequential_1\"\u001b[0m\n"
            ],
            "text/html": [
              "<pre style=\"white-space:pre;overflow-x:auto;line-height:normal;font-family:Menlo,'DejaVu Sans Mono',consolas,'Courier New',monospace\"><span style=\"font-weight: bold\">Model: \"sequential_1\"</span>\n",
              "</pre>\n"
            ]
          },
          "metadata": {}
        },
        {
          "output_type": "display_data",
          "data": {
            "text/plain": [
              "┏━━━━━━━━━━━━━━━━━━━━━━━━━━━━━━━━━┳━━━━━━━━━━━━━━━━━━━━━━━━┳━━━━━━━━━━━━━━━┓\n",
              "┃\u001b[1m \u001b[0m\u001b[1mLayer (type)                   \u001b[0m\u001b[1m \u001b[0m┃\u001b[1m \u001b[0m\u001b[1mOutput Shape          \u001b[0m\u001b[1m \u001b[0m┃\u001b[1m \u001b[0m\u001b[1m      Param #\u001b[0m\u001b[1m \u001b[0m┃\n",
              "┡━━━━━━━━━━━━━━━━━━━━━━━━━━━━━━━━━╇━━━━━━━━━━━━━━━━━━━━━━━━╇━━━━━━━━━━━━━━━┩\n",
              "│ lstm_2 (\u001b[38;5;33mLSTM\u001b[0m)                   │ (\u001b[38;5;45mNone\u001b[0m, \u001b[38;5;34m28\u001b[0m, \u001b[38;5;34m32\u001b[0m)         │         \u001b[38;5;34m7,808\u001b[0m │\n",
              "├─────────────────────────────────┼────────────────────────┼───────────────┤\n",
              "│ dropout_1 (\u001b[38;5;33mDropout\u001b[0m)             │ (\u001b[38;5;45mNone\u001b[0m, \u001b[38;5;34m28\u001b[0m, \u001b[38;5;34m32\u001b[0m)         │             \u001b[38;5;34m0\u001b[0m │\n",
              "├─────────────────────────────────┼────────────────────────┼───────────────┤\n",
              "│ lstm_3 (\u001b[38;5;33mLSTM\u001b[0m)                   │ (\u001b[38;5;45mNone\u001b[0m, \u001b[38;5;34m64\u001b[0m)             │        \u001b[38;5;34m24,832\u001b[0m │\n",
              "├─────────────────────────────────┼────────────────────────┼───────────────┤\n",
              "│ dense_4 (\u001b[38;5;33mDense\u001b[0m)                 │ (\u001b[38;5;45mNone\u001b[0m, \u001b[38;5;34m32\u001b[0m)             │         \u001b[38;5;34m2,080\u001b[0m │\n",
              "├─────────────────────────────────┼────────────────────────┼───────────────┤\n",
              "│ dense_5 (\u001b[38;5;33mDense\u001b[0m)                 │ (\u001b[38;5;45mNone\u001b[0m, \u001b[38;5;34m64\u001b[0m)             │         \u001b[38;5;34m2,112\u001b[0m │\n",
              "├─────────────────────────────────┼────────────────────────┼───────────────┤\n",
              "│ dense_6 (\u001b[38;5;33mDense\u001b[0m)                 │ (\u001b[38;5;45mNone\u001b[0m, \u001b[38;5;34m128\u001b[0m)            │         \u001b[38;5;34m8,320\u001b[0m │\n",
              "├─────────────────────────────────┼────────────────────────┼───────────────┤\n",
              "│ dense_7 (\u001b[38;5;33mDense\u001b[0m)                 │ (\u001b[38;5;45mNone\u001b[0m, \u001b[38;5;34m10\u001b[0m)             │         \u001b[38;5;34m1,290\u001b[0m │\n",
              "└─────────────────────────────────┴────────────────────────┴───────────────┘\n"
            ],
            "text/html": [
              "<pre style=\"white-space:pre;overflow-x:auto;line-height:normal;font-family:Menlo,'DejaVu Sans Mono',consolas,'Courier New',monospace\">┏━━━━━━━━━━━━━━━━━━━━━━━━━━━━━━━━━┳━━━━━━━━━━━━━━━━━━━━━━━━┳━━━━━━━━━━━━━━━┓\n",
              "┃<span style=\"font-weight: bold\"> Layer (type)                    </span>┃<span style=\"font-weight: bold\"> Output Shape           </span>┃<span style=\"font-weight: bold\">       Param # </span>┃\n",
              "┡━━━━━━━━━━━━━━━━━━━━━━━━━━━━━━━━━╇━━━━━━━━━━━━━━━━━━━━━━━━╇━━━━━━━━━━━━━━━┩\n",
              "│ lstm_2 (<span style=\"color: #0087ff; text-decoration-color: #0087ff\">LSTM</span>)                   │ (<span style=\"color: #00d7ff; text-decoration-color: #00d7ff\">None</span>, <span style=\"color: #00af00; text-decoration-color: #00af00\">28</span>, <span style=\"color: #00af00; text-decoration-color: #00af00\">32</span>)         │         <span style=\"color: #00af00; text-decoration-color: #00af00\">7,808</span> │\n",
              "├─────────────────────────────────┼────────────────────────┼───────────────┤\n",
              "│ dropout_1 (<span style=\"color: #0087ff; text-decoration-color: #0087ff\">Dropout</span>)             │ (<span style=\"color: #00d7ff; text-decoration-color: #00d7ff\">None</span>, <span style=\"color: #00af00; text-decoration-color: #00af00\">28</span>, <span style=\"color: #00af00; text-decoration-color: #00af00\">32</span>)         │             <span style=\"color: #00af00; text-decoration-color: #00af00\">0</span> │\n",
              "├─────────────────────────────────┼────────────────────────┼───────────────┤\n",
              "│ lstm_3 (<span style=\"color: #0087ff; text-decoration-color: #0087ff\">LSTM</span>)                   │ (<span style=\"color: #00d7ff; text-decoration-color: #00d7ff\">None</span>, <span style=\"color: #00af00; text-decoration-color: #00af00\">64</span>)             │        <span style=\"color: #00af00; text-decoration-color: #00af00\">24,832</span> │\n",
              "├─────────────────────────────────┼────────────────────────┼───────────────┤\n",
              "│ dense_4 (<span style=\"color: #0087ff; text-decoration-color: #0087ff\">Dense</span>)                 │ (<span style=\"color: #00d7ff; text-decoration-color: #00d7ff\">None</span>, <span style=\"color: #00af00; text-decoration-color: #00af00\">32</span>)             │         <span style=\"color: #00af00; text-decoration-color: #00af00\">2,080</span> │\n",
              "├─────────────────────────────────┼────────────────────────┼───────────────┤\n",
              "│ dense_5 (<span style=\"color: #0087ff; text-decoration-color: #0087ff\">Dense</span>)                 │ (<span style=\"color: #00d7ff; text-decoration-color: #00d7ff\">None</span>, <span style=\"color: #00af00; text-decoration-color: #00af00\">64</span>)             │         <span style=\"color: #00af00; text-decoration-color: #00af00\">2,112</span> │\n",
              "├─────────────────────────────────┼────────────────────────┼───────────────┤\n",
              "│ dense_6 (<span style=\"color: #0087ff; text-decoration-color: #0087ff\">Dense</span>)                 │ (<span style=\"color: #00d7ff; text-decoration-color: #00d7ff\">None</span>, <span style=\"color: #00af00; text-decoration-color: #00af00\">128</span>)            │         <span style=\"color: #00af00; text-decoration-color: #00af00\">8,320</span> │\n",
              "├─────────────────────────────────┼────────────────────────┼───────────────┤\n",
              "│ dense_7 (<span style=\"color: #0087ff; text-decoration-color: #0087ff\">Dense</span>)                 │ (<span style=\"color: #00d7ff; text-decoration-color: #00d7ff\">None</span>, <span style=\"color: #00af00; text-decoration-color: #00af00\">10</span>)             │         <span style=\"color: #00af00; text-decoration-color: #00af00\">1,290</span> │\n",
              "└─────────────────────────────────┴────────────────────────┴───────────────┘\n",
              "</pre>\n"
            ]
          },
          "metadata": {}
        },
        {
          "output_type": "display_data",
          "data": {
            "text/plain": [
              "\u001b[1m Total params: \u001b[0m\u001b[38;5;34m46,442\u001b[0m (181.41 KB)\n"
            ],
            "text/html": [
              "<pre style=\"white-space:pre;overflow-x:auto;line-height:normal;font-family:Menlo,'DejaVu Sans Mono',consolas,'Courier New',monospace\"><span style=\"font-weight: bold\"> Total params: </span><span style=\"color: #00af00; text-decoration-color: #00af00\">46,442</span> (181.41 KB)\n",
              "</pre>\n"
            ]
          },
          "metadata": {}
        },
        {
          "output_type": "display_data",
          "data": {
            "text/plain": [
              "\u001b[1m Trainable params: \u001b[0m\u001b[38;5;34m46,442\u001b[0m (181.41 KB)\n"
            ],
            "text/html": [
              "<pre style=\"white-space:pre;overflow-x:auto;line-height:normal;font-family:Menlo,'DejaVu Sans Mono',consolas,'Courier New',monospace\"><span style=\"font-weight: bold\"> Trainable params: </span><span style=\"color: #00af00; text-decoration-color: #00af00\">46,442</span> (181.41 KB)\n",
              "</pre>\n"
            ]
          },
          "metadata": {}
        },
        {
          "output_type": "display_data",
          "data": {
            "text/plain": [
              "\u001b[1m Non-trainable params: \u001b[0m\u001b[38;5;34m0\u001b[0m (0.00 B)\n"
            ],
            "text/html": [
              "<pre style=\"white-space:pre;overflow-x:auto;line-height:normal;font-family:Menlo,'DejaVu Sans Mono',consolas,'Courier New',monospace\"><span style=\"font-weight: bold\"> Non-trainable params: </span><span style=\"color: #00af00; text-decoration-color: #00af00\">0</span> (0.00 B)\n",
              "</pre>\n"
            ]
          },
          "metadata": {}
        }
      ],
      "execution_count": 26
    },
    {
      "cell_type": "code",
      "source": [
        "earlyStopping = EarlyStopping(monitor='val_loss', patience=3)"
      ],
      "metadata": {
        "id": "El-z0ws6WSgu"
      },
      "execution_count": 27,
      "outputs": []
    },
    {
      "cell_type": "code",
      "source": [
        "model.compile(loss='categorical_crossentropy', optimizer='adam', metrics=['accuracy'])"
      ],
      "metadata": {
        "trusted": true,
        "execution": {
          "iopub.status.busy": "2025-04-18T22:17:53.819147Z",
          "iopub.execute_input": "2025-04-18T22:17:53.819832Z",
          "iopub.status.idle": "2025-04-18T22:17:53.827474Z",
          "shell.execute_reply.started": "2025-04-18T22:17:53.819808Z",
          "shell.execute_reply": "2025-04-18T22:17:53.826901Z"
        },
        "id": "ZYYthTV9T4zW"
      },
      "outputs": [],
      "execution_count": 28
    },
    {
      "cell_type": "code",
      "source": [
        "history = model.fit(x_train, y_train, batch_size=BATCH_SIZE, epochs=EPOCHS, validation_split=0.15 , callbacks=earlyStopping)"
      ],
      "metadata": {
        "trusted": true,
        "execution": {
          "iopub.status.busy": "2025-04-18T22:31:25.714106Z",
          "iopub.execute_input": "2025-04-18T22:31:25.714791Z",
          "iopub.status.idle": "2025-04-18T22:34:31.723439Z",
          "shell.execute_reply.started": "2025-04-18T22:31:25.714768Z",
          "shell.execute_reply": "2025-04-18T22:34:31.722874Z"
        },
        "colab": {
          "base_uri": "https://localhost:8080/"
        },
        "id": "vI58kzwbT4zY",
        "outputId": "5c15419d-73c6-4021-9130-d834097340bd"
      },
      "outputs": [
        {
          "output_type": "stream",
          "name": "stdout",
          "text": [
            "Epoch 1/30\n",
            "\u001b[1m3188/3188\u001b[0m \u001b[32m━━━━━━━━━━━━━━━━━━━━\u001b[0m\u001b[37m\u001b[0m \u001b[1m34s\u001b[0m 9ms/step - accuracy: 0.7219 - loss: 0.8149 - val_accuracy: 0.9446 - val_loss: 0.1790\n",
            "Epoch 2/30\n",
            "\u001b[1m3188/3188\u001b[0m \u001b[32m━━━━━━━━━━━━━━━━━━━━\u001b[0m\u001b[37m\u001b[0m \u001b[1m39s\u001b[0m 9ms/step - accuracy: 0.9498 - loss: 0.1635 - val_accuracy: 0.9714 - val_loss: 0.0965\n",
            "Epoch 3/30\n",
            "\u001b[1m3188/3188\u001b[0m \u001b[32m━━━━━━━━━━━━━━━━━━━━\u001b[0m\u001b[37m\u001b[0m \u001b[1m43s\u001b[0m 10ms/step - accuracy: 0.9692 - loss: 0.1078 - val_accuracy: 0.9769 - val_loss: 0.0770\n",
            "Epoch 4/30\n",
            "\u001b[1m3188/3188\u001b[0m \u001b[32m━━━━━━━━━━━━━━━━━━━━\u001b[0m\u001b[37m\u001b[0m \u001b[1m38s\u001b[0m 9ms/step - accuracy: 0.9756 - loss: 0.0835 - val_accuracy: 0.9729 - val_loss: 0.0948\n",
            "Epoch 5/30\n",
            "\u001b[1m3188/3188\u001b[0m \u001b[32m━━━━━━━━━━━━━━━━━━━━\u001b[0m\u001b[37m\u001b[0m \u001b[1m30s\u001b[0m 9ms/step - accuracy: 0.9798 - loss: 0.0706 - val_accuracy: 0.9802 - val_loss: 0.0730\n",
            "Epoch 6/30\n",
            "\u001b[1m3188/3188\u001b[0m \u001b[32m━━━━━━━━━━━━━━━━━━━━\u001b[0m\u001b[37m\u001b[0m \u001b[1m41s\u001b[0m 9ms/step - accuracy: 0.9819 - loss: 0.0634 - val_accuracy: 0.9854 - val_loss: 0.0503\n",
            "Epoch 7/30\n",
            "\u001b[1m3188/3188\u001b[0m \u001b[32m━━━━━━━━━━━━━━━━━━━━\u001b[0m\u001b[37m\u001b[0m \u001b[1m41s\u001b[0m 9ms/step - accuracy: 0.9850 - loss: 0.0511 - val_accuracy: 0.9838 - val_loss: 0.0606\n",
            "Epoch 8/30\n",
            "\u001b[1m3188/3188\u001b[0m \u001b[32m━━━━━━━━━━━━━━━━━━━━\u001b[0m\u001b[37m\u001b[0m \u001b[1m41s\u001b[0m 9ms/step - accuracy: 0.9865 - loss: 0.0467 - val_accuracy: 0.9826 - val_loss: 0.0695\n",
            "Epoch 9/30\n",
            "\u001b[1m3188/3188\u001b[0m \u001b[32m━━━━━━━━━━━━━━━━━━━━\u001b[0m\u001b[37m\u001b[0m \u001b[1m40s\u001b[0m 9ms/step - accuracy: 0.9867 - loss: 0.0435 - val_accuracy: 0.9858 - val_loss: 0.0462\n",
            "Epoch 10/30\n",
            "\u001b[1m3188/3188\u001b[0m \u001b[32m━━━━━━━━━━━━━━━━━━━━\u001b[0m\u001b[37m\u001b[0m \u001b[1m42s\u001b[0m 9ms/step - accuracy: 0.9885 - loss: 0.0401 - val_accuracy: 0.9874 - val_loss: 0.0517\n",
            "Epoch 11/30\n",
            "\u001b[1m3188/3188\u001b[0m \u001b[32m━━━━━━━━━━━━━━━━━━━━\u001b[0m\u001b[37m\u001b[0m \u001b[1m30s\u001b[0m 9ms/step - accuracy: 0.9907 - loss: 0.0327 - val_accuracy: 0.9861 - val_loss: 0.0599\n",
            "Epoch 12/30\n",
            "\u001b[1m3188/3188\u001b[0m \u001b[32m━━━━━━━━━━━━━━━━━━━━\u001b[0m\u001b[37m\u001b[0m \u001b[1m41s\u001b[0m 9ms/step - accuracy: 0.9907 - loss: 0.0323 - val_accuracy: 0.9873 - val_loss: 0.0471\n"
          ]
        }
      ],
      "execution_count": 29
    },
    {
      "cell_type": "code",
      "source": [
        "model.evaluate(x_test, y_test)"
      ],
      "metadata": {
        "trusted": true,
        "execution": {
          "iopub.status.busy": "2025-04-18T22:29:53.278562Z",
          "iopub.execute_input": "2025-04-18T22:29:53.279242Z",
          "iopub.status.idle": "2025-04-18T22:29:54.326222Z",
          "shell.execute_reply.started": "2025-04-18T22:29:53.279219Z",
          "shell.execute_reply": "2025-04-18T22:29:54.325643Z"
        },
        "colab": {
          "base_uri": "https://localhost:8080/"
        },
        "id": "4gEbcLuET4za",
        "outputId": "570c1ca3-d30a-4164-93ce-64195b52021b"
      },
      "outputs": [
        {
          "output_type": "stream",
          "name": "stdout",
          "text": [
            "\u001b[1m313/313\u001b[0m \u001b[32m━━━━━━━━━━━━━━━━━━━━\u001b[0m\u001b[37m\u001b[0m \u001b[1m2s\u001b[0m 5ms/step - accuracy: 0.9867 - loss: 0.0519\n"
          ]
        },
        {
          "output_type": "execute_result",
          "data": {
            "text/plain": [
              "[0.04528827965259552, 0.9886000156402588]"
            ]
          },
          "metadata": {},
          "execution_count": 30
        }
      ],
      "execution_count": 30
    },
    {
      "cell_type": "code",
      "source": [
        "plt.figure(figsize=(12, 5))\n",
        "plt.subplot(1, 2, 1)\n",
        "plt.plot(history.history['accuracy'])\n",
        "plt.plot(history.history['val_accuracy'])\n",
        "plt.title('model accuracy')\n",
        "plt.ylabel('accuracy')\n",
        "plt.xlabel('epoch')\n",
        "plt.legend(['train', 'val'], loc='upper left')\n",
        "\n",
        "plt.subplot(1, 2, 2)\n",
        "plt.plot(history.history['loss'])\n",
        "plt.plot(history.history['val_loss'])\n",
        "plt.title('model loss')\n",
        "plt.ylabel('loss')\n",
        "plt.xlabel('epoch')\n",
        "plt.legend(['train', 'val'], loc='upper left')\n",
        "\n",
        "plt.show()"
      ],
      "metadata": {
        "trusted": true,
        "execution": {
          "iopub.status.busy": "2025-04-18T22:34:32.073462Z",
          "iopub.execute_input": "2025-04-18T22:34:32.073737Z",
          "iopub.status.idle": "2025-04-18T22:34:32.376219Z",
          "shell.execute_reply.started": "2025-04-18T22:34:32.073714Z",
          "shell.execute_reply": "2025-04-18T22:34:32.375521Z"
        },
        "colab": {
          "base_uri": "https://localhost:8080/",
          "height": 416
        },
        "id": "O_EkjhrVT4zb",
        "outputId": "fb902e92-0637-4fef-da27-c659ba1b0ff7"
      },
      "outputs": [
        {
          "output_type": "display_data",
          "data": {
            "text/plain": [
              "<Figure size 1200x500 with 2 Axes>"
            ],
            "image/png": "[encoded data removed]"
          },
          "metadata": {}
        }
      ],
      "execution_count": 31
    },
    {
      "cell_type": "markdown",
      "source": [
        "# ***first when using SLTM**\n",
        "*evaluation is : [0.07058527320623398, 0.9815999865531921]*\n",
        "\n",
        "____\n",
        "# ***second using convSLTM1D***\n",
        "## 1_using kernal = 1 and padding = same\n",
        "    *evaluation is : [0.07816589623689651, 0.9768999814987183]*\n",
        "    \n",
        "## 2_using kernal = 1 and padding = valid\n",
        "    *evaluation is : [0.09019090235233307, 0.9732999801635742]*\n",
        "\n",
        "    \n",
        "## 3_using kernal = 1 and padding = valid\n",
        "    *evaluation is : [0.07462575286626816, 0.9793999791145325]*\n",
        "\n",
        "## 4_using kernal = 1 and padding = valid\n",
        "    *evaluation is : [0.08920244872570038, 0.9776999950408936]*\n",
        "----\n",
        "# ***third using two layer lstm***\n",
        "*evaluation is [0.06059226766228676, 0.9865999817848206]*"
      ],
      "metadata": {
        "id": "-ggzQFa-T4zc"
      }
    },
    {
      "cell_type": "markdown",
      "source": [
        "# #so the best one by using two layer of SLTM"
      ],
      "metadata": {
        "id": "OwYwEHNTT4zd"
      }
    },
    {
      "cell_type": "code",
      "source": [
        "model.save('mnist_lstm_model.h5')"
      ],
      "metadata": {
        "trusted": true,
        "colab": {
          "base_uri": "https://localhost:8080/"
        },
        "id": "-gJuxIscT4ze",
        "outputId": "a3523fc2-5e07-455a-cd31-67da562fa1df"
      },
      "outputs": [
        {
          "output_type": "stream",
          "name": "stderr",
          "text": [
            "WARNING:absl:You are saving your model as an HDF5 file via `model.save()` or `keras.saving.save_model(model)`. This file format is considered legacy. We recommend using instead the native Keras format, e.g. `model.save('my_model.keras')` or `keras.saving.save_model(model, 'my_model.keras')`. \n"
          ]
        }
      ],
      "execution_count": 32
    },
    {
      "cell_type": "markdown",
      "source": [
        "----------------------------------------------\n",
        "\n",
        "$$ Wish \\space you \\space all \\space the \\space best \\space ♡ $$\n",
        "$$ Abdelrahman \\space Eid $$"
      ],
      "metadata": {
        "id": "7ff5f5dc"
      }
    }
  ]
}